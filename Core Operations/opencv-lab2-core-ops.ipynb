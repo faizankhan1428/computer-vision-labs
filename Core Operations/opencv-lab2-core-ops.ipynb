{
 "cells": [
  {
   "cell_type": "code",
   "execution_count": 1,
   "id": "ade57135",
   "metadata": {
    "_cell_guid": "b1076dfc-b9ad-4769-8c92-a6c4dae69d19",
    "_uuid": "8f2839f25d086af736a60e9eeb907d3b93b6e0e5",
    "execution": {
     "iopub.execute_input": "2025-06-03T20:27:35.975103Z",
     "iopub.status.busy": "2025-06-03T20:27:35.974799Z",
     "iopub.status.idle": "2025-06-03T20:27:36.442809Z",
     "shell.execute_reply": "2025-06-03T20:27:36.442138Z"
    },
    "papermill": {
     "duration": 0.471884,
     "end_time": "2025-06-03T20:27:36.444100",
     "exception": false,
     "start_time": "2025-06-03T20:27:35.972216",
     "status": "completed"
    },
    "tags": []
   },
   "outputs": [
    {
     "name": "stdout",
     "output_type": "stream",
     "text": [
      "Original pixel at (100, 100): [181  96  27]\n",
      "Shape: (512, 512, 3)\n",
      "Size: 786432\n",
      "Dtype: uint8\n"
     ]
    }
   ],
   "source": [
    "import cv2\n",
    "import numpy as np\n",
    "\n",
    "# Create a dummy color image (512x512) with random pixels\n",
    "img = np.random.randint(0, 256, (512, 512, 3), dtype=np.uint8)\n",
    "\n",
    "# Access pixel value\n",
    "px = img[100, 100]\n",
    "print(\"Original pixel at (100, 100):\", px)\n",
    "\n",
    "# Modify pixel\n",
    "img[100, 100] = [255, 255, 255]\n",
    "\n",
    "# Image properties\n",
    "print(\"Shape:\", img.shape)\n",
    "print(\"Size:\", img.size)\n",
    "print(\"Dtype:\", img.dtype)\n",
    "\n",
    "# Split and merge\n",
    "b, g, r = cv2.split(img)\n",
    "img_merged = cv2.merge((b, g, r))"
   ]
  },
  {
   "cell_type": "code",
   "execution_count": null,
   "id": "a2b8058c",
   "metadata": {
    "papermill": {
     "duration": 0.000872,
     "end_time": "2025-06-03T20:27:36.446326",
     "exception": false,
     "start_time": "2025-06-03T20:27:36.445454",
     "status": "completed"
    },
    "tags": []
   },
   "outputs": [],
   "source": []
  }
 ],
 "metadata": {
  "kaggle": {
   "accelerator": "none",
   "dataSources": [],
   "dockerImageVersionId": 31040,
   "isGpuEnabled": false,
   "isInternetEnabled": false,
   "language": "python",
   "sourceType": "notebook"
  },
  "kernelspec": {
   "display_name": "Python 3",
   "language": "python",
   "name": "python3"
  },
  "language_info": {
   "codemirror_mode": {
    "name": "ipython",
    "version": 3
   },
   "file_extension": ".py",
   "mimetype": "text/x-python",
   "name": "python",
   "nbconvert_exporter": "python",
   "pygments_lexer": "ipython3",
   "version": "3.11.11"
  },
  "papermill": {
   "default_parameters": {},
   "duration": 4.658297,
   "end_time": "2025-06-03T20:27:36.765165",
   "environment_variables": {},
   "exception": null,
   "input_path": "__notebook__.ipynb",
   "output_path": "__notebook__.ipynb",
   "parameters": {},
   "start_time": "2025-06-03T20:27:32.106868",
   "version": "2.6.0"
  }
 },
 "nbformat": 4,
 "nbformat_minor": 5
}
