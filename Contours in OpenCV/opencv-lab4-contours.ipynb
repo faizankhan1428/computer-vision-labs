{
 "cells": [
  {
   "cell_type": "code",
   "execution_count": 1,
   "id": "045618de",
   "metadata": {
    "_cell_guid": "b1076dfc-b9ad-4769-8c92-a6c4dae69d19",
    "_uuid": "8f2839f25d086af736a60e9eeb907d3b93b6e0e5",
    "execution": {
     "iopub.execute_input": "2025-06-09T04:02:17.387895Z",
     "iopub.status.busy": "2025-06-09T04:02:17.387176Z",
     "iopub.status.idle": "2025-06-09T04:02:18.128114Z",
     "shell.execute_reply": "2025-06-09T04:02:18.127088Z"
    },
    "papermill": {
     "duration": 0.745665,
     "end_time": "2025-06-09T04:02:18.129752",
     "exception": false,
     "start_time": "2025-06-09T04:02:17.384087",
     "status": "completed"
    },
    "tags": []
   },
   "outputs": [
    {
     "data": {
      "image/png": "[encoded data removed]",
      "text/plain": [
       "<Figure size 640x480 with 1 Axes>"
      ]
     },
     "metadata": {},
     "output_type": "display_data"
    }
   ],
   "source": [
    "import cv2\n",
    "import numpy as np\n",
    "\n",
    "img = np.zeros((200, 200), np.uint8)\n",
    "img = cv2.rectangle(img, (50, 50), (150, 150), 255, -1)\n",
    "\n",
    "contours, _ = cv2.findContours(img, cv2.RETR_TREE, cv2.CHAIN_APPROX_SIMPLE)\n",
    "\n",
    "img_color = cv2.cvtColor(img, cv2.COLOR_GRAY2BGR)\n",
    "cv2.drawContours(img_color, contours, -1, (0,255,0), 2)\n",
    "\n",
    "import matplotlib.pyplot as plt\n",
    "plt.imshow(img_color)\n",
    "plt.axis('off')\n",
    "plt.show()"
   ]
  },
  {
   "cell_type": "code",
   "execution_count": null,
   "id": "3dd1f337",
   "metadata": {
    "papermill": {
     "duration": 0.001184,
     "end_time": "2025-06-09T04:02:18.132809",
     "exception": false,
     "start_time": "2025-06-09T04:02:18.131625",
     "status": "completed"
    },
    "tags": []
   },
   "outputs": [],
   "source": []
  }
 ],
 "metadata": {
  "kaggle": {
   "accelerator": "none",
   "dataSources": [],
   "dockerImageVersionId": 31040,
   "isGpuEnabled": false,
   "isInternetEnabled": false,
   "language": "python",
   "sourceType": "notebook"
  },
  "kernelspec": {
   "display_name": "Python 3",
   "language": "python",
   "name": "python3"
  },
  "language_info": {
   "codemirror_mode": {
    "name": "ipython",
    "version": 3
   },
   "file_extension": ".py",
   "mimetype": "text/x-python",
   "name": "python",
   "nbconvert_exporter": "python",
   "pygments_lexer": "ipython3",
   "version": "3.11.11"
  },
  "papermill": {
   "default_parameters": {},
   "duration": 6.350348,
   "end_time": "2025-06-09T04:02:18.554148",
   "environment_variables": {},
   "exception": null,
   "input_path": "__notebook__.ipynb",
   "output_path": "__notebook__.ipynb",
   "parameters": {},
   "start_time": "2025-06-09T04:02:12.203800",
   "version": "2.6.0"
  }
 },
 "nbformat": 4,
 "nbformat_minor": 5
}
